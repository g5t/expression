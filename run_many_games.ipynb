{
 "cells": [
  {
   "cell_type": "code",
   "execution_count": null,
   "id": "industrial-protest",
   "metadata": {},
   "outputs": [],
   "source": [
    "import expression_terminal\n",
    "import plot_widget\n",
    "from contestants import template_fast\n",
    "from contestants import template_reckless\n",
    "from contestants import template_careful"
   ]
  },
  {
   "cell_type": "code",
   "execution_count": null,
   "id": "indirect-developer",
   "metadata": {},
   "outputs": [],
   "source": [
    "fast = template_fast.Agent()\n",
    "reckless = template_reckless.Agent()\n",
    "careful = template_careful.Agent()\n",
    "\n",
    "result = expression_terminal.run_expression_terminal(save=False, n_runs=5000,\n",
    "                                                     top_agent=reckless,\n",
    "                                                     bottom_agent=fast)\n",
    "        \n",
    "top_score, bottom_score, histories = result"
   ]
  },
  {
   "cell_type": "code",
   "execution_count": null,
   "id": "better-stationery",
   "metadata": {},
   "outputs": [],
   "source": [
    "print(top_score, bottom_score)"
   ]
  },
  {
   "cell_type": "code",
   "execution_count": null,
   "id": "fabulous-turning",
   "metadata": {},
   "outputs": [],
   "source": [
    "%matplotlib widget\n",
    "widget_object = plot_widget.GameHistoryVisualizer(histories)"
   ]
  },
  {
   "cell_type": "code",
   "execution_count": null,
   "id": "partial-experience",
   "metadata": {
    "scrolled": false
   },
   "outputs": [],
   "source": [
    "widget_object.setup_widget()"
   ]
  },
  {
   "cell_type": "code",
   "execution_count": null,
   "id": "bearing-evening",
   "metadata": {
    "scrolled": false
   },
   "outputs": [],
   "source": [
    "#result = expression_terminal.run_expression_terminal(save=False, n_runs=1, verbose=True)"
   ]
  }
 ],
 "metadata": {
  "kernelspec": {
   "display_name": "Python 3",
   "language": "python",
   "name": "python3"
  },
  "language_info": {
   "codemirror_mode": {
    "name": "ipython",
    "version": 3
   },
   "file_extension": ".py",
   "mimetype": "text/x-python",
   "name": "python",
   "nbconvert_exporter": "python",
   "pygments_lexer": "ipython3",
   "version": "3.8.8"
  }
 },
 "nbformat": 4,
 "nbformat_minor": 5
}
